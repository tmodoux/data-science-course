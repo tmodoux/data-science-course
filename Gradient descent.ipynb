{
 "cells": [
  {
   "cell_type": "markdown",
   "id": "8f00222a",
   "metadata": {},
   "source": [
    "# Gradient descent"
   ]
  },
  {
   "cell_type": "code",
   "execution_count": 19,
   "id": "5f690c9b",
   "metadata": {},
   "outputs": [],
   "source": [
    "import numpy as np\n",
    "import matplotlib.pyplot as plt\n",
    "from mpl_toolkits.mplot3d import Axes3D"
   ]
  },
  {
   "cell_type": "code",
   "execution_count": 20,
   "id": "4b60e7bc",
   "metadata": {},
   "outputs": [
    {
     "data": {
      "text/plain": [
       "(1000, 2)"
      ]
     },
     "execution_count": 20,
     "metadata": {},
     "output_type": "execute_result"
    }
   ],
   "source": [
    "# Generate fake data to train on\n",
    "observations = 1000\n",
    "xs = np.random.uniform(low=-10,high=10,size=(observations,1))\n",
    "zs = np.random.uniform(low=-10,high=10,size=(observations,1))\n",
    "inputs = np.column_stack((xs, zs))\n",
    "inputs.shape"
   ]
  },
  {
   "cell_type": "code",
   "execution_count": 29,
   "id": "a343ab4a",
   "metadata": {},
   "outputs": [
    {
     "data": {
      "text/plain": [
       "(1000, 1)"
      ]
     },
     "execution_count": 29,
     "metadata": {},
     "output_type": "execute_result"
    }
   ],
   "source": [
    "# Define targets\n",
    "noise = np.random.uniform(-1,1,(observations,1))\n",
    "targets = 2*xs - 3*zs + 5 + noise\n",
    "targets.shape"
   ]
  },
  {
   "cell_type": "code",
   "execution_count": 22,
   "id": "9551b01a",
   "metadata": {},
   "outputs": [
    {
     "data": {
      "text/plain": [
       "(array([[0.07255588],\n",
       "        [0.02176604]]),\n",
       " array([0.07575383]))"
      ]
     },
     "execution_count": 22,
     "metadata": {},
     "output_type": "execute_result"
    }
   ],
   "source": [
    "# Init random bias and weights\n",
    "init_range = 0.1\n",
    "weights = np.random.uniform(-init_range,init_range,size=(2,1))\n",
    "biases = np.random.uniform(-init_range,init_range,size=1)\n",
    "weights, biases"
   ]
  },
  {
   "cell_type": "code",
   "execution_count": 27,
   "id": "9591da2a",
   "metadata": {},
   "outputs": [
    {
     "name": "stdout",
     "output_type": "stream",
     "text": [
      "0.3718622598117295\n",
      "0.36335504985233297\n",
      "0.3551845644823945\n",
      "0.34733747577775526\n",
      "0.33980098334793746\n",
      "0.3325627934557904\n",
      "0.3256110989636029\n",
      "0.31893456007296933\n",
      "0.3125222858269931\n",
      "0.30636381634465626\n",
      "0.30044910575836486\n",
      "0.294768505826852\n",
      "0.28931275019669644\n",
      "0.2840729392867855\n",
      "0.2790405257710732\n",
      "0.27420730063594057\n",
      "0.26956537978942346\n",
      "0.2651071912004621\n",
      "0.2608254625471921\n",
      "0.25671320935412895\n",
      "0.25276372359889676\n",
      "0.24897056276991572\n",
      "0.24532753935719484\n",
      "0.24182871075909426\n",
      "0.23846836958858847\n",
      "0.23524103436321336\n",
      "0.23214144056352282\n",
      "0.22916453204545445\n",
      "0.2263054527926077\n",
      "0.2235595389949733\n",
      "0.22092231144119667\n",
      "0.21838946821196273\n",
      "0.215956877662585\n",
      "0.21362057168335016\n",
      "0.21137673922662886\n",
      "0.20922172009018658\n",
      "0.20715199894655928\n",
      "0.20516419960875415\n",
      "0.2032550795229177\n",
      "0.20142152447899267\n",
      "0.19966054353073037\n",
      "0.1979692641167753\n",
      "0.1963449273748648\n",
      "0.19478488364149318\n",
      "0.19328658812970828\n",
      "0.19184759677798277\n",
      "0.1904655622633941\n",
      "0.1891382301726037\n",
      "0.18786343532439712\n",
      "0.18663909823777772\n",
      "0.18546322173986135\n",
      "0.18433388770803003\n",
      "0.18324925394103825\n",
      "0.18220755115396195\n",
      "0.18120708009209158\n",
      "0.18024620875906067\n",
      "0.17932336975468774\n",
      "0.17843705771818855\n",
      "0.17758582687259075\n",
      "0.17676828866634092\n",
      "0.17598310950826054\n",
      "0.17522900859215587\n",
      "0.17450475580752994\n",
      "0.17380916973299254\n",
      "0.17314111570909196\n",
      "0.17249950398742767\n",
      "0.17188328795302169\n",
      "0.17129146241705087\n",
      "0.1707230619771554\n",
      "0.17017715944264677\n",
      "0.16965286432204837\n",
      "0.1691493213705022\n",
      "0.16866570919466778\n",
      "0.16820123891284355\n",
      "0.16775515286812043\n",
      "0.1673267233924711\n",
      "0.16691525161975693\n",
      "0.1665200663457189\n",
      "0.1661405229330897\n",
      "0.16577600226004374\n",
      "0.16542590971026788\n",
      "0.1650896742030077\n",
      "0.16476674726150334\n",
      "0.1644566021182996\n",
      "0.16415873285596846\n",
      "0.16387265358184122\n",
      "0.16359789763540805\n",
      "0.1633340168270879\n",
      "0.16308058070712866\n",
      "0.16283717586344626\n",
      "0.16260340524725464\n",
      "0.16237888752538926\n",
      "0.16216325645826513\n",
      "0.16195616030245719\n",
      "0.16175726123692638\n",
      "0.16156623481195617\n",
      "0.16138276941990165\n",
      "0.16120656578688622\n",
      "0.16103733648461738\n",
      "0.16087480546152613\n"
     ]
    }
   ],
   "source": [
    "# Set learning rate and train model y = xw + b\n",
    "learning_rate = 0.02\n",
    "for i in range(100):\n",
    "    outputs = np.dot(inputs,weights) + biases\n",
    "    deltas = outputs - targets\n",
    "    # L2-norm loss\n",
    "    loss = np.sum(deltas**2) / 2 / observations\n",
    "    print(loss) # converge to 0\n",
    "    deltas_scaled = deltas / observations\n",
    "    # update weights and biases according to GD\n",
    "    weights = weights - learning_rate * np.dot(inputs.T, deltas_scaled)\n",
    "    biases = biases - learning_rate * np.sum(deltas_scaled)"
   ]
  },
  {
   "cell_type": "code",
   "execution_count": 30,
   "id": "cc68c0f0",
   "metadata": {},
   "outputs": [
    {
     "data": {
      "text/plain": [
       "(array([[ 1.98757353],\n",
       "        [-2.99975367]]),\n",
       " array([4.91541652]))"
      ]
     },
     "execution_count": 30,
     "metadata": {},
     "output_type": "execute_result"
    }
   ],
   "source": [
    "weights,biases # approximate the target equation"
   ]
  },
  {
   "cell_type": "code",
   "execution_count": 32,
   "id": "89a8652f",
   "metadata": {},
   "outputs": [
    {
     "data": {
      "image/png": "[encoded data removed]",
      "text/plain": [
       "<Figure size 640x480 with 1 Axes>"
      ]
     },
     "metadata": {},
     "output_type": "display_data"
    }
   ],
   "source": [
    "# Plot model outputs VS targets\n",
    "plt.plot(outputs,targets)\n",
    "plt.xlabel('outputs')\n",
    "plt.ylabel('targets')\n",
    "plt.show()"
   ]
  }
 ],
 "metadata": {
  "kernelspec": {
   "display_name": "Python 3 (ipykernel)",
   "language": "python",
   "name": "python3"
  },
  "language_info": {
   "codemirror_mode": {
    "name": "ipython",
    "version": 3
   },
   "file_extension": ".py",
   "mimetype": "text/x-python",
   "name": "python",
   "nbconvert_exporter": "python",
   "pygments_lexer": "ipython3",
   "version": "3.9.13"
  }
 },
 "nbformat": 4,
 "nbformat_minor": 5
}
