{
 "cells": [
  {
   "cell_type": "markdown",
   "id": "10a5f1ef",
   "metadata": {},
   "source": [
    "# Mnist classification with Tensorflow NN\n",
    "\n",
    "Handwritten numbers in 28x28=784 pixels matrix ranging from 0-255 into a flattened 784x1 input vector"
   ]
  },
  {
   "cell_type": "code",
   "execution_count": 1,
   "id": "3a62163e",
   "metadata": {},
   "outputs": [],
   "source": [
    "import numpy as np\n",
    "import tensorflow as tf\n",
    "import tensorflow_datasets as tfds"
   ]
  },
  {
   "cell_type": "code",
   "execution_count": 2,
   "id": "6a8425b6",
   "metadata": {},
   "outputs": [],
   "source": [
    "# Download/load the dataset\n",
    "mnist_dataset, mnist_info = tfds.load(name='mnist', with_info=True, as_supervised=True)"
   ]
  },
  {
   "cell_type": "code",
   "execution_count": 3,
   "id": "4888b6a3",
   "metadata": {},
   "outputs": [],
   "source": [
    "# Test-train split\n",
    "mnist_train, mnist_test = mnist_dataset['train'],mnist_dataset['test']\n",
    "num_validation_samples = 0.1 * mnist_info.splits['train'].num_examples\n",
    "num_validation_samples = tf.cast(num_validation_samples, tf.int64)\n",
    "num_test_samples = 0.1 * mnist_info.splits['test'].num_examples\n",
    "num_test_samples = tf.cast(num_test_samples, tf.int64)"
   ]
  },
  {
   "cell_type": "code",
   "execution_count": 4,
   "id": "b63f2381",
   "metadata": {},
   "outputs": [],
   "source": [
    "# Features scaling\n",
    "def scale(image, label):\n",
    "    image = tf.cast(image, tf.float32)\n",
    "    image /= 255.\n",
    "    return image, label\n",
    "\n",
    "scaled_train_and_validation_data = mnist_train.map(scale)\n",
    "scaled_test_data = mnist_test.map(scale)"
   ]
  },
  {
   "cell_type": "code",
   "execution_count": 5,
   "id": "8eefb41d",
   "metadata": {},
   "outputs": [],
   "source": [
    "# Suffling data: ordered data would be bad while batching\n",
    "BUFFER_SIZE = 10000\n",
    "shuffled_train_and_validation_data = scaled_train_and_validation_data.shuffle(BUFFER_SIZE)\n",
    "validation_data = shuffled_train_and_validation_data.take(num_validation_samples)\n",
    "train_data = shuffled_train_and_validation_data.skip(num_validation_samples)"
   ]
  },
  {
   "cell_type": "code",
   "execution_count": 6,
   "id": "4833757c",
   "metadata": {},
   "outputs": [],
   "source": [
    "# Batching\n",
    "BATCH_SIZE=100\n",
    "train_data = train_data.batch(BATCH_SIZE)\n",
    "# we dont need batches for validation and test since we dont backpropagate on these sets\n",
    "# still the model need data of same format so we use one big batch containing all set\n",
    "validation_data = validation_data.batch(num_validation_samples)\n",
    "test_data = scaled_test_data.batch(num_test_samples)"
   ]
  },
  {
   "cell_type": "code",
   "execution_count": 7,
   "id": "c01afa12",
   "metadata": {},
   "outputs": [],
   "source": [
    "# NN Model\n",
    "validation_inputs, validation_targets = next(iter(validation_data)) # make inputs and targets iterable and load first batch\n",
    "input_size = 784 # 28x28=784 pixels\n",
    "output_size = 10 # 10 possible digits (0-9)\n",
    "hidden_layer_size = 200\n",
    "model = tf.keras.Sequential([\n",
    "    tf.keras.layers.Flatten(input_shape=(28,28,1)), # transforms tensor to vector\n",
    "    tf.keras.layers.Dense(hidden_layer_size, activation='relu'), # first hidden layer\n",
    "    tf.keras.layers.Dense(hidden_layer_size, activation='tanh'), # second hidden layer\n",
    "    tf.keras.layers.Dense(hidden_layer_size, activation='sigmoid'), # third hidden layer\n",
    "    tf.keras.layers.Dense(output_size, activation='softmax') # last layer, apply classification activation function\n",
    "])\n",
    "# use Adam optimizer\n",
    "# use Sparse categorical crossentropy since it fits classification problems and also applies one-hot encoding\n",
    "# also ask for accuracy metric\n",
    "model.compile(optimizer='adam', loss='sparse_categorical_crossentropy', metrics=['accuracy'])"
   ]
  },
  {
   "cell_type": "code",
   "execution_count": 13,
   "id": "f8fdcc2f",
   "metadata": {},
   "outputs": [
    {
     "name": "stdout",
     "output_type": "stream",
     "text": [
      "Epoch 1/5\n",
      "540/540 - 1s - loss: 0.0156 - accuracy: 0.9950 - val_loss: 0.0251 - val_accuracy: 0.9922 - 1s/epoch - 2ms/step\n",
      "Epoch 2/5\n",
      "540/540 - 1s - loss: 0.0121 - accuracy: 0.9961 - val_loss: 0.0156 - val_accuracy: 0.9955 - 1s/epoch - 2ms/step\n",
      "Epoch 3/5\n",
      "540/540 - 1s - loss: 0.0104 - accuracy: 0.9966 - val_loss: 0.0105 - val_accuracy: 0.9967 - 1s/epoch - 2ms/step\n",
      "Epoch 4/5\n",
      "540/540 - 1s - loss: 0.0088 - accuracy: 0.9968 - val_loss: 0.0170 - val_accuracy: 0.9938 - 1s/epoch - 2ms/step\n",
      "Epoch 5/5\n",
      "540/540 - 1s - loss: 0.0115 - accuracy: 0.9961 - val_loss: 0.0144 - val_accuracy: 0.9958 - 1s/epoch - 2ms/step\n"
     ]
    },
    {
     "data": {
      "text/plain": [
       "<keras.callbacks.History at 0x1bd2ef86490>"
      ]
     },
     "execution_count": 13,
     "metadata": {},
     "output_type": "execute_result"
    }
   ],
   "source": [
    "# Training the model\n",
    "NUM_EPOCHS = 5\n",
    "model.fit(\n",
    "    train_data,\n",
    "    epochs=NUM_EPOCHS,\n",
    "    callbacks=[tf.keras.callbacks.EarlyStopping(patience=2)], # setup early stopping mechanism\n",
    "    validation_data=(validation_inputs, validation_targets),\n",
    "    verbose=2\n",
    ")"
   ]
  },
  {
   "cell_type": "code",
   "execution_count": 14,
   "id": "b4641f97",
   "metadata": {},
   "outputs": [
    {
     "name": "stdout",
     "output_type": "stream",
     "text": [
      "10/10 [==============================] - 0s 2ms/step - loss: 0.0907 - accuracy: 0.9798\n"
     ]
    }
   ],
   "source": [
    "# Test the model\n",
    "test_loss, test_accuracy = model.evaluate(test_data)"
   ]
  },
  {
   "cell_type": "code",
   "execution_count": null,
   "id": "6a91ad16",
   "metadata": {},
   "outputs": [],
   "source": []
  }
 ],
 "metadata": {
  "kernelspec": {
   "display_name": "Python [conda env:root] *",
   "language": "python",
   "name": "conda-root-py"
  },
  "language_info": {
   "codemirror_mode": {
    "name": "ipython",
    "version": 3
   },
   "file_extension": ".py",
   "mimetype": "text/x-python",
   "name": "python",
   "nbconvert_exporter": "python",
   "pygments_lexer": "ipython3",
   "version": "3.9.13"
  }
 },
 "nbformat": 4,
 "nbformat_minor": 5
}
