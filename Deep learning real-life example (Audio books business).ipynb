{
 "cells": [
  {
   "cell_type": "markdown",
   "id": "41090c5d",
   "metadata": {},
   "source": [
    "# Deep learning real-life example (Audio books business)\n",
    "\n",
    "Customers conversion for an audio book company, we have data for 2 years of activity + 6 months to check conversion => this is supervised learning since we have the targets, we want to predict if a customer will buy again (classification problem: will buy, wont buy)"
   ]
  },
  {
   "cell_type": "code",
   "execution_count": 1,
   "id": "d5791fca",
   "metadata": {},
   "outputs": [],
   "source": [
    "import numpy as np\n",
    "import tensorflow as tf\n",
    "from sklearn import preprocessing"
   ]
  },
  {
   "cell_type": "code",
   "execution_count": 2,
   "id": "fdfb9248",
   "metadata": {},
   "outputs": [],
   "source": [
    "# Load data\n",
    "raw_csv_data = np.loadtxt('./data/audiobooks.csv', delimiter=',')\n",
    "unscaled_inputs_all = raw_csv_data[:,1:-1]\n",
    "targets_all = raw_csv_data[:,-1]"
   ]
  },
  {
   "cell_type": "code",
   "execution_count": 3,
   "id": "31dcc11e",
   "metadata": {},
   "outputs": [],
   "source": [
    "# Balance dataset\n",
    "num_one_targets = int(np.sum(targets_all))\n",
    "zero_targets_counter = 0\n",
    "indices_to_remove = []\n",
    "\n",
    "for i in range(targets_all.shape[0]):\n",
    "    if targets_all[i] == 0:\n",
    "        zero_targets_counter+=1\n",
    "        if zero_targets_counter > num_one_targets:\n",
    "            indices_to_remove.append(i)\n",
    "\n",
    "unscaled_inputs_equal_priors = np.delete(unscaled_inputs_all, indices_to_remove, axis=0)\n",
    "targets_equal_priors = np.delete(targets_all, indices_to_remove, axis=0)"
   ]
  },
  {
   "cell_type": "code",
   "execution_count": 4,
   "id": "4ab4e658",
   "metadata": {},
   "outputs": [],
   "source": [
    "# Standardize inputs\n",
    "scaled_inputs = preprocessing.scale(unscaled_inputs_equal_priors)"
   ]
  },
  {
   "cell_type": "code",
   "execution_count": 5,
   "id": "8c6440a7",
   "metadata": {},
   "outputs": [],
   "source": [
    "# Shuffle data\n",
    "shuffled_indices = np.arange(scaled_inputs.shape[0])\n",
    "np.random.shuffle(shuffled_indices)\n",
    "\n",
    "shuffled_inputs = scaled_inputs[shuffled_indices]\n",
    "shuffled_targets = targets_equal_priors[shuffled_indices]"
   ]
  },
  {
   "cell_type": "code",
   "execution_count": 6,
   "id": "d4d03b3e",
   "metadata": {},
   "outputs": [],
   "source": [
    "# Train-validation-test split\n",
    "samples_count = shuffled_inputs.shape[0]\n",
    "\n",
    "train_samples_count = int(0.8*samples_count)\n",
    "validation_samples_count = int(0.1*samples_count)\n",
    "test_samples_count = samples_count - train_samples_count - validation_samples_count\n",
    "\n",
    "train_inputs = shuffled_inputs[:train_samples_count]\n",
    "train_targets = shuffled_targets[:train_samples_count]\n",
    "\n",
    "validation_inputs = shuffled_inputs[train_samples_count:train_samples_count+validation_samples_count]\n",
    "validation_targets = shuffled_targets[train_samples_count:train_samples_count+validation_samples_count]\n",
    "\n",
    "test_inputs = shuffled_inputs[train_samples_count+validation_samples_count:]\n",
    "test_targets = shuffled_targets[train_samples_count+validation_samples_count:]"
   ]
  },
  {
   "cell_type": "code",
   "execution_count": 7,
   "id": "905a43f2",
   "metadata": {},
   "outputs": [],
   "source": [
    "# Save datasets\n",
    "np.savez('./data/Audiobooks_data_train', inputs=train_inputs, targets=train_targets)\n",
    "np.savez('./data/Audiobooks_data_validation', inputs=validation_inputs, targets=validation_targets)\n",
    "np.savez('./data/Audiobooks_data_test', inputs=test_inputs, targets=test_targets)"
   ]
  },
  {
   "cell_type": "code",
   "execution_count": 11,
   "id": "4853bda6",
   "metadata": {},
   "outputs": [],
   "source": [
    "# Load datasets\n",
    "npz = np.load('./data/Audiobooks_data_train.npz')\n",
    "\n",
    "train_inputs = npz['inputs'].astype(np.float64)\n",
    "train_targets = npz['targets'].astype(np.int32)\n",
    "\n",
    "npz = np.load('./data/Audiobooks_data_validation.npz')\n",
    "validation_inputs = npz['inputs'].astype(np.float64)\n",
    "validation_targets = npz['targets'].astype(np.int32)\n",
    "\n",
    "npz = np.load('./data/Audiobooks_data_test.npz')\n",
    "test_inputs = npz['inputs'].astype(np.float64)\n",
    "test_targets = npz['targets'].astype(np.int32)"
   ]
  },
  {
   "cell_type": "code",
   "execution_count": 12,
   "id": "ab3beba2",
   "metadata": {},
   "outputs": [],
   "source": [
    "# NN Model\n",
    "input_size = 10\n",
    "output_size = 2 # will buy or wont buy\n",
    "hidden_layer_size = 200\n",
    "model = tf.keras.Sequential([\n",
    "    tf.keras.layers.Dense(hidden_layer_size, activation='relu'),\n",
    "    tf.keras.layers.Dense(hidden_layer_size, activation='relu'),\n",
    "    tf.keras.layers.Dense(output_size, activation='softmax') # last layer, apply classification activation function\n",
    "])\n",
    "model.compile(optimizer='adam', loss='sparse_categorical_crossentropy', metrics=['accuracy'])"
   ]
  },
  {
   "cell_type": "code",
   "execution_count": 21,
   "id": "10ea22fe",
   "metadata": {},
   "outputs": [
    {
     "name": "stdout",
     "output_type": "stream",
     "text": [
      "Epoch 1/100\n",
      "36/36 - 0s - loss: 0.2892 - accuracy: 0.8416 - val_loss: 0.3535 - val_accuracy: 0.8143 - 71ms/epoch - 2ms/step\n",
      "Epoch 2/100\n",
      "36/36 - 0s - loss: 0.2881 - accuracy: 0.8371 - val_loss: 0.3472 - val_accuracy: 0.8054 - 55ms/epoch - 2ms/step\n",
      "Epoch 3/100\n",
      "36/36 - 0s - loss: 0.2942 - accuracy: 0.8340 - val_loss: 0.3449 - val_accuracy: 0.8076 - 55ms/epoch - 2ms/step\n",
      "Epoch 4/100\n",
      "36/36 - 0s - loss: 0.2888 - accuracy: 0.8393 - val_loss: 0.3463 - val_accuracy: 0.8121 - 56ms/epoch - 2ms/step\n",
      "Epoch 5/100\n",
      "36/36 - 0s - loss: 0.2865 - accuracy: 0.8438 - val_loss: 0.3408 - val_accuracy: 0.8076 - 55ms/epoch - 2ms/step\n",
      "Epoch 6/100\n",
      "36/36 - 0s - loss: 0.2872 - accuracy: 0.8421 - val_loss: 0.3412 - val_accuracy: 0.8166 - 58ms/epoch - 2ms/step\n",
      "Epoch 7/100\n",
      "36/36 - 0s - loss: 0.2901 - accuracy: 0.8351 - val_loss: 0.3452 - val_accuracy: 0.8121 - 56ms/epoch - 2ms/step\n",
      "Epoch 8/100\n",
      "36/36 - 0s - loss: 0.2882 - accuracy: 0.8421 - val_loss: 0.3580 - val_accuracy: 0.8054 - 54ms/epoch - 1ms/step\n",
      "Epoch 9/100\n",
      "36/36 - 0s - loss: 0.2903 - accuracy: 0.8363 - val_loss: 0.3496 - val_accuracy: 0.8009 - 56ms/epoch - 2ms/step\n",
      "Epoch 10/100\n",
      "36/36 - 0s - loss: 0.2909 - accuracy: 0.8405 - val_loss: 0.3480 - val_accuracy: 0.8054 - 56ms/epoch - 2ms/step\n",
      "Epoch 11/100\n",
      "36/36 - 0s - loss: 0.2871 - accuracy: 0.8365 - val_loss: 0.3506 - val_accuracy: 0.8054 - 55ms/epoch - 2ms/step\n",
      "Epoch 12/100\n",
      "36/36 - 0s - loss: 0.2873 - accuracy: 0.8385 - val_loss: 0.3474 - val_accuracy: 0.7964 - 57ms/epoch - 2ms/step\n",
      "Epoch 13/100\n",
      "36/36 - 0s - loss: 0.2904 - accuracy: 0.8424 - val_loss: 0.3360 - val_accuracy: 0.8143 - 58ms/epoch - 2ms/step\n",
      "Epoch 14/100\n",
      "36/36 - 0s - loss: 0.2897 - accuracy: 0.8396 - val_loss: 0.3399 - val_accuracy: 0.8188 - 60ms/epoch - 2ms/step\n",
      "Epoch 15/100\n",
      "36/36 - 0s - loss: 0.2910 - accuracy: 0.8360 - val_loss: 0.3493 - val_accuracy: 0.8121 - 57ms/epoch - 2ms/step\n",
      "Epoch 16/100\n",
      "36/36 - 0s - loss: 0.2896 - accuracy: 0.8388 - val_loss: 0.3537 - val_accuracy: 0.8009 - 57ms/epoch - 2ms/step\n",
      "Epoch 17/100\n",
      "36/36 - 0s - loss: 0.2863 - accuracy: 0.8393 - val_loss: 0.3515 - val_accuracy: 0.8054 - 57ms/epoch - 2ms/step\n",
      "Epoch 18/100\n",
      "36/36 - 0s - loss: 0.2877 - accuracy: 0.8391 - val_loss: 0.3459 - val_accuracy: 0.8054 - 57ms/epoch - 2ms/step\n",
      "Epoch 19/100\n",
      "36/36 - 0s - loss: 0.2864 - accuracy: 0.8410 - val_loss: 0.3465 - val_accuracy: 0.8210 - 57ms/epoch - 2ms/step\n",
      "Epoch 20/100\n",
      "36/36 - 0s - loss: 0.2875 - accuracy: 0.8396 - val_loss: 0.3506 - val_accuracy: 0.8166 - 54ms/epoch - 1ms/step\n",
      "Epoch 21/100\n",
      "36/36 - 0s - loss: 0.2864 - accuracy: 0.8402 - val_loss: 0.3515 - val_accuracy: 0.8054 - 58ms/epoch - 2ms/step\n",
      "Epoch 22/100\n",
      "36/36 - 0s - loss: 0.2864 - accuracy: 0.8419 - val_loss: 0.3572 - val_accuracy: 0.8054 - 55ms/epoch - 2ms/step\n",
      "Epoch 23/100\n",
      "36/36 - 0s - loss: 0.2849 - accuracy: 0.8413 - val_loss: 0.3376 - val_accuracy: 0.8098 - 57ms/epoch - 2ms/step\n"
     ]
    },
    {
     "data": {
      "text/plain": [
       "<keras.callbacks.History at 0x2333f273cd0>"
      ]
     },
     "execution_count": 21,
     "metadata": {},
     "output_type": "execute_result"
    }
   ],
   "source": [
    "# Training the model\n",
    "batch_size, max_epochs = 100, 100\n",
    "model.fit(\n",
    "    train_inputs,\n",
    "    train_targets,\n",
    "    batch_size=batch_size,\n",
    "    epochs=max_epochs,\n",
    "    callbacks=[tf.keras.callbacks.EarlyStopping(patience=10)], # setup early stopping mechanism\n",
    "    validation_data=(validation_inputs, validation_targets),\n",
    "    verbose=2\n",
    ")"
   ]
  },
  {
   "cell_type": "code",
   "execution_count": 23,
   "id": "6ded6eae",
   "metadata": {},
   "outputs": [
    {
     "name": "stdout",
     "output_type": "stream",
     "text": [
      "14/14 [==============================] - 0s 959us/step - loss: 0.4022 - accuracy: 0.8125\n"
     ]
    }
   ],
   "source": [
    "# Testing the model\n",
    "test_loss, test_accuracy = model.evaluate(test_inputs, test_targets)"
   ]
  },
  {
   "cell_type": "code",
   "execution_count": null,
   "id": "a1ea1ca1",
   "metadata": {},
   "outputs": [],
   "source": []
  }
 ],
 "metadata": {
  "kernelspec": {
   "display_name": "Python 3 (ipykernel)",
   "language": "python",
   "name": "python3"
  },
  "language_info": {
   "codemirror_mode": {
    "name": "ipython",
    "version": 3
   },
   "file_extension": ".py",
   "mimetype": "text/x-python",
   "name": "python",
   "nbconvert_exporter": "python",
   "pygments_lexer": "ipython3",
   "version": "3.9.13"
  }
 },
 "nbformat": 4,
 "nbformat_minor": 5
}
