{
 "cells": [
  {
   "cell_type": "markdown",
   "id": "2ed7539e",
   "metadata": {},
   "source": [
    "# Simple Logistic regression"
   ]
  },
  {
   "cell_type": "code",
   "execution_count": 2,
   "id": "23c79851",
   "metadata": {},
   "outputs": [],
   "source": [
    "import numpy as np\n",
    "import pandas as pd\n",
    "import statsmodels.api as sm\n",
    "import matplotlib.pyplot as plt\n",
    "import seaborn as sns\n",
    "sns.set()"
   ]
  },
  {
   "cell_type": "code",
   "execution_count": 5,
   "id": "ecfcb59a",
   "metadata": {},
   "outputs": [
    {
     "data": {
      "text/html": [
       "<div>\n",
       "<style scoped>\n",
       "    .dataframe tbody tr th:only-of-type {\n",
       "        vertical-align: middle;\n",
       "    }\n",
       "\n",
       "    .dataframe tbody tr th {\n",
       "        vertical-align: top;\n",
       "    }\n",
       "\n",
       "    .dataframe thead th {\n",
       "        text-align: right;\n",
       "    }\n",
       "</style>\n",
       "<table border=\"1\" class=\"dataframe\">\n",
       "  <thead>\n",
       "    <tr style=\"text-align: right;\">\n",
       "      <th></th>\n",
       "      <th>SAT</th>\n",
       "      <th>Admitted</th>\n",
       "    </tr>\n",
       "  </thead>\n",
       "  <tbody>\n",
       "    <tr>\n",
       "      <th>0</th>\n",
       "      <td>1363</td>\n",
       "      <td>0</td>\n",
       "    </tr>\n",
       "    <tr>\n",
       "      <th>1</th>\n",
       "      <td>1792</td>\n",
       "      <td>1</td>\n",
       "    </tr>\n",
       "    <tr>\n",
       "      <th>2</th>\n",
       "      <td>1954</td>\n",
       "      <td>1</td>\n",
       "    </tr>\n",
       "    <tr>\n",
       "      <th>3</th>\n",
       "      <td>1653</td>\n",
       "      <td>0</td>\n",
       "    </tr>\n",
       "    <tr>\n",
       "      <th>4</th>\n",
       "      <td>1593</td>\n",
       "      <td>0</td>\n",
       "    </tr>\n",
       "    <tr>\n",
       "      <th>...</th>\n",
       "      <td>...</td>\n",
       "      <td>...</td>\n",
       "    </tr>\n",
       "    <tr>\n",
       "      <th>163</th>\n",
       "      <td>1722</td>\n",
       "      <td>1</td>\n",
       "    </tr>\n",
       "    <tr>\n",
       "      <th>164</th>\n",
       "      <td>1750</td>\n",
       "      <td>1</td>\n",
       "    </tr>\n",
       "    <tr>\n",
       "      <th>165</th>\n",
       "      <td>1555</td>\n",
       "      <td>0</td>\n",
       "    </tr>\n",
       "    <tr>\n",
       "      <th>166</th>\n",
       "      <td>1524</td>\n",
       "      <td>0</td>\n",
       "    </tr>\n",
       "    <tr>\n",
       "      <th>167</th>\n",
       "      <td>1461</td>\n",
       "      <td>0</td>\n",
       "    </tr>\n",
       "  </tbody>\n",
       "</table>\n",
       "<p>168 rows × 2 columns</p>\n",
       "</div>"
      ],
      "text/plain": [
       "      SAT  Admitted\n",
       "0    1363         0\n",
       "1    1792         1\n",
       "2    1954         1\n",
       "3    1653         0\n",
       "4    1593         0\n",
       "..    ...       ...\n",
       "163  1722         1\n",
       "164  1750         1\n",
       "165  1555         0\n",
       "166  1524         0\n",
       "167  1461         0\n",
       "\n",
       "[168 rows x 2 columns]"
      ]
     },
     "execution_count": 5,
     "metadata": {},
     "output_type": "execute_result"
    }
   ],
   "source": [
    "raw_data = pd.read_csv('logistic.csv')\n",
    "data = raw_data.copy()\n",
    "data['Admitted'] = data['Admitted'].map({'Yes': 1, 'No': 0}) # transform categorical data to binary\n",
    "data"
   ]
  },
  {
   "cell_type": "code",
   "execution_count": 14,
   "id": "3337df0d",
   "metadata": {},
   "outputs": [
    {
     "data": {
      "image/png": "[encoded data removed]",
      "text/plain": [
       "<Figure size 640x480 with 1 Axes>"
      ]
     },
     "metadata": {},
     "output_type": "display_data"
    }
   ],
   "source": [
    "y = data['Admitted']\n",
    "x1 = data['SAT']\n",
    "plt.scatter(x1,y,color='C0')\n",
    "plt.xlabel('SAT',fontsize=20)\n",
    "plt.ylabel('Admitted',fontsize=20)\n",
    "plt.show()\n",
    "# Linear regression definitively wont fit for this non-linear distribution"
   ]
  },
  {
   "cell_type": "code",
   "execution_count": 21,
   "id": "73f71bda",
   "metadata": {},
   "outputs": [
    {
     "name": "stdout",
     "output_type": "stream",
     "text": [
      "Optimization terminated successfully.\n",
      "         Current function value: 0.137766\n",
      "         Iterations 10\n"
     ]
    },
    {
     "data": {
      "text/html": [
       "<table class=\"simpletable\">\n",
       "<caption>Logit Regression Results</caption>\n",
       "<tr>\n",
       "  <th>Dep. Variable:</th>       <td>Admitted</td>     <th>  No. Observations:  </th>  <td>   168</td>  \n",
       "</tr>\n",
       "<tr>\n",
       "  <th>Model:</th>                 <td>Logit</td>      <th>  Df Residuals:      </th>  <td>   166</td>  \n",
       "</tr>\n",
       "<tr>\n",
       "  <th>Method:</th>                 <td>MLE</td>       <th>  Df Model:          </th>  <td>     1</td>  \n",
       "</tr>\n",
       "<tr>\n",
       "  <th>Date:</th>            <td>Mon, 15 May 2023</td> <th>  Pseudo R-squ.:     </th>  <td>0.7992</td>  \n",
       "</tr>\n",
       "<tr>\n",
       "  <th>Time:</th>                <td>21:21:01</td>     <th>  Log-Likelihood:    </th> <td> -23.145</td> \n",
       "</tr>\n",
       "<tr>\n",
       "  <th>converged:</th>             <td>True</td>       <th>  LL-Null:           </th> <td> -115.26</td> \n",
       "</tr>\n",
       "<tr>\n",
       "  <th>Covariance Type:</th>     <td>nonrobust</td>    <th>  LLR p-value:       </th> <td>5.805e-42</td>\n",
       "</tr>\n",
       "</table>\n",
       "<table class=\"simpletable\">\n",
       "<tr>\n",
       "    <td></td>       <th>coef</th>     <th>std err</th>      <th>z</th>      <th>P>|z|</th>  <th>[0.025</th>    <th>0.975]</th>  \n",
       "</tr>\n",
       "<tr>\n",
       "  <th>const</th> <td>  -69.9128</td> <td>   15.737</td> <td>   -4.443</td> <td> 0.000</td> <td> -100.756</td> <td>  -39.070</td>\n",
       "</tr>\n",
       "<tr>\n",
       "  <th>SAT</th>   <td>    0.0420</td> <td>    0.009</td> <td>    4.454</td> <td> 0.000</td> <td>    0.024</td> <td>    0.060</td>\n",
       "</tr>\n",
       "</table><br/><br/>Possibly complete quasi-separation: A fraction 0.27 of observations can be<br/>perfectly predicted. This might indicate that there is complete<br/>quasi-separation. In this case some parameters will not be identified."
      ],
      "text/plain": [
       "<class 'statsmodels.iolib.summary.Summary'>\n",
       "\"\"\"\n",
       "                           Logit Regression Results                           \n",
       "==============================================================================\n",
       "Dep. Variable:               Admitted   No. Observations:                  168\n",
       "Model:                          Logit   Df Residuals:                      166\n",
       "Method:                           MLE   Df Model:                            1\n",
       "Date:                Mon, 15 May 2023   Pseudo R-squ.:                  0.7992\n",
       "Time:                        21:21:01   Log-Likelihood:                -23.145\n",
       "converged:                       True   LL-Null:                       -115.26\n",
       "Covariance Type:            nonrobust   LLR p-value:                 5.805e-42\n",
       "==============================================================================\n",
       "                 coef    std err          z      P>|z|      [0.025      0.975]\n",
       "------------------------------------------------------------------------------\n",
       "const        -69.9128     15.737     -4.443      0.000    -100.756     -39.070\n",
       "SAT            0.0420      0.009      4.454      0.000       0.024       0.060\n",
       "==============================================================================\n",
       "\n",
       "Possibly complete quasi-separation: A fraction 0.27 of observations can be\n",
       "perfectly predicted. This might indicate that there is complete\n",
       "quasi-separation. In this case some parameters will not be identified.\n",
       "\"\"\""
      ]
     },
     "execution_count": 21,
     "metadata": {},
     "output_type": "execute_result"
    }
   ],
   "source": [
    "# Logistic regression\n",
    "x = sm.add_constant(x1)\n",
    "reg_log = sm.Logit(y,x) # ML algo learning by iteration\n",
    "results_log = reg_log.fit()\n",
    "\n",
    "results_log.summary()"
   ]
  },
  {
   "cell_type": "code",
   "execution_count": 20,
   "id": "e943e7d2",
   "metadata": {},
   "outputs": [
    {
     "data": {
      "image/png": "[encoded data removed]",
      "text/plain": [
       "<Figure size 640x480 with 1 Axes>"
      ]
     },
     "metadata": {},
     "output_type": "display_data"
    }
   ],
   "source": [
    "def f(x,b0,b1):\n",
    "    return np.array(np.exp(b0+x*b1) / (1 + np.exp(b0+x*b1)))\n",
    "\n",
    "f_sorted = np.sort(f(x1,results_log.params[0],results_log.params[1]))\n",
    "x_sorted = np.sort(np.array(x1))\n",
    "\n",
    "plt.scatter(x1,y,color='C0')\n",
    "plt.xlabel('SAT', fontsize = 20)\n",
    "plt.ylabel('Admitted', fontsize = 20)\n",
    "plt.plot(x_sorted,f_sorted,color='C8')\n",
    "plt.show()"
   ]
  },
  {
   "cell_type": "code",
   "execution_count": null,
   "id": "e641e105",
   "metadata": {},
   "outputs": [],
   "source": []
  }
 ],
 "metadata": {
  "kernelspec": {
   "display_name": "Python 3 (ipykernel)",
   "language": "python",
   "name": "python3"
  },
  "language_info": {
   "codemirror_mode": {
    "name": "ipython",
    "version": 3
   },
   "file_extension": ".py",
   "mimetype": "text/x-python",
   "name": "python",
   "nbconvert_exporter": "python",
   "pygments_lexer": "ipython3",
   "version": "3.9.13"
  }
 },
 "nbformat": 4,
 "nbformat_minor": 5
}
